{
 "cells": [
  {
   "cell_type": "markdown",
   "metadata": {},
   "source": [
    "# Project Description:\n",
    "\n",
    "For my project, I created a program that allows you to send an encrypted email. This project\n",
    "was inspired by COGS 18 Assignment No. 2 and my interest in covert work.\n",
    "\n",
    "This program is useful to communicate with others and only want a specific person to \n",
    "be able to read it. In the real world, it could be used to communicate in clandestine \n",
    "positions where it is important to keep information a secret. If the email is intercepted \n",
    "by another, they will not be able to read (decode) it without the `key` specified by the \n",
    "encryptor. \n",
    "\n",
    "My main function was from Tom Donoghue's 'Send an Email' demo. \n",
    "\n",
    "First, the program asks you to type in a message to be encrypted. Once entered, the program \n",
    "converts each character to Unicode code points and adds `key` (encoding) and then converts \n",
    "it back to characters (decoding). This process is done by functions implemented in ciphers.py.\n",
    "These functions are not listed in the notebook file in order to create a more clutter-free view \n",
    "of the code. (I was told the main `send_encrypted_email` function does not need to be moved to \n",
    "ciphers.py because the ProjectNotebook does not to be completely free of functions.) \n",
    "\n",
    "Next, the program asks if a user wants to sent to an email to an address other than the \n",
    "default email. If yes, the program will allow the user to type in the email they would \n",
    "like the encrypted message to be sent to. If not, the message will be sent to the \n",
    "default email address. \n",
    "\n",
    "A big thank you to Professor Tom Donoghue and the COGS 18 TA's for their assitance. "
   ]
  },
  {
   "cell_type": "code",
   "execution_count": 1,
   "metadata": {},
   "outputs": [],
   "source": [
    "import time\n",
    "import smtplib\n",
    "\n",
    "import sys\n",
    "sys.path.append('my_module/')\n",
    "\n",
    "from email.mime.text import MIMEText #object\n",
    "\n",
    "from My_module.ciphers import *"
   ]
  },
  {
   "cell_type": "markdown",
   "metadata": {},
   "source": [
    "#### Below, the user can enter a special message to be encrypted:"
   ]
  },
  {
   "cell_type": "code",
   "execution_count": 2,
   "metadata": {
    "scrolled": true
   },
   "outputs": [
    {
     "name": "stdout",
     "output_type": "stream",
     "text": [
      "Please enter a message: This is a super secret message! \n"
     ]
    }
   ],
   "source": [
    "message = input('Please enter a message: ')"
   ]
  },
  {
   "cell_type": "markdown",
   "metadata": {},
   "source": [
    "#### In addition to the inputted message, `EMAIL_TEXT` will be added."
   ]
  },
  {
   "cell_type": "code",
   "execution_count": 3,
   "metadata": {},
   "outputs": [
    {
     "name": "stdout",
     "output_type": "stream",
     "text": [
      "This is a super secret message! \n",
      "\n",
      "THIS MESSAGE WILL SELF DESTRUCT IN 3...2...\n",
      "\n"
     ]
    }
   ],
   "source": [
    "EMAIL_TEXT = \"\\n\\nTHIS MESSAGE WILL SELF DESTRUCT IN 3...2...\\n\" \n",
    "\n",
    "message = message + EMAIL_TEXT\n",
    "\n",
    "print(message)"
   ]
  },
  {
   "cell_type": "markdown",
   "metadata": {},
   "source": [
    "####  Below, the `encode_message` function with input variables `message` and `key` are stored into `encoded_msg`.\n",
    "#### Then, the `decode_message` function with input variables `encoded_msg` and `key` are stored into `decoded_msg`."
   ]
  },
  {
   "cell_type": "code",
   "execution_count": 4,
   "metadata": {},
   "outputs": [],
   "source": [
    "encoded_msg = encode_message(message, key=4)  \n",
    "\n",
    "decoded_msg = decode_message(encoded_msg, key=4) "
   ]
  },
  {
   "cell_type": "markdown",
   "metadata": {},
   "source": [
    "#### Now the process of ciphering the message will be shown. \n",
    "##### Original Message --> Encoded Message --> Decoded Message"
   ]
  },
  {
   "cell_type": "code",
   "execution_count": 5,
   "metadata": {},
   "outputs": [
    {
     "name": "stdout",
     "output_type": "stream",
     "text": [
      "\n",
      "Original Message: \t This is a super secret message! \n",
      "\n",
      "THIS MESSAGE WILL SELF DESTRUCT IN 3...2...\n",
      "\n",
      "\n",
      "Encoded Message: \t Xlmw$mw$e$wytiv$wigvix$qiwweki%$\u000e\u000eXLMW$QIWWEKI$[MPP$WIPJ$HIWXVYGX$MR$72226222\u000e\n",
      "\n",
      "Decoded Message: \t This is a super secret message! \n",
      "\n",
      "THIS MESSAGE WILL SELF DESTRUCT IN 3...2...\n",
      " \n",
      "\n"
     ]
    }
   ],
   "source": [
    "print('\\nOriginal Message: \\t', message)\n",
    "print('\\nEncoded Message: \\t', encoded_msg)\n",
    "print('\\nDecoded Message: \\t', decoded_msg, '\\n')"
   ]
  },
  {
   "cell_type": "code",
   "execution_count": 6,
   "metadata": {},
   "outputs": [],
   "source": [
    "def send_encrypted_email(encoded_msg, to_email='DEFAULT_ADDRESS', verbose=True):\n",
    "    \"\"\"Sending an encrypted email.\n",
    "    \n",
    "    Parameters\n",
    "    ----------\n",
    "    encoded_msg : string \n",
    "        This is the message that will be sent in the email.\n",
    "    to_email : string\n",
    "        This is the default email address the encoded message will be sent to. \n",
    "\n",
    "    This function prints all of the information needed in regards to the email.\n",
    "    This includes; the sender, the reciever and the message contents. \n",
    "    \"\"\"\n",
    "\n",
    "    print(\"\\nSETTING UP SMTP MAIL SERVER.\\n\")\n",
    "\n",
    "    # Set up the SMTP server & login\n",
    "    smtp = smtplib.SMTP('smtp.gmail.com', 587)  \n",
    "    # Note: sometimes ttls has to be turned off \n",
    "    smtp.starttls()\n",
    "    smtp.ehlo() \n",
    "    smtp.login(FROM_ADDRESS, FROM_PASSWORD) \n",
    "    # lowered security settings in order for Python to be able to \n",
    "    # send an email through account\n",
    "\n",
    "    # Create the msg outline & set contents\n",
    "    print(\"Congrats, you get to see my special email!\")\n",
    "    time.sleep(2)  # pause for 2 seconds\n",
    "    msg = MIMEText(encoded_msg)\n",
    "    msg['From'] = 'FROM_ADDRESS' # sender\n",
    "    msg['To'] =  to_email # reciever\n",
    "    msg['Subject'] = 'Top Secret Stuffs'\n",
    "\n",
    "    # Check out the email\n",
    "    if verbose:\n",
    "        print(\"\\nPRINT OUT CREATED EMAIL:\\n\")\n",
    "        print(msg)\n",
    "\n",
    "    time.sleep(4)  # pause for 4 seconds\n",
    "\n",
    "    # Send message\n",
    "    print(\"\\nSENDING EMAIL...\")\n",
    "    smtp.send_message(msg)\n",
    "    time.sleep(1)  # pause for 1 second\n",
    "    print('\\nEMAIL SENT!')"
   ]
  },
  {
   "cell_type": "code",
   "execution_count": 7,
   "metadata": {},
   "outputs": [
    {
     "name": "stdout",
     "output_type": "stream",
     "text": [
      "Do you want to send to a custom email? 'y' or 'n'y\n",
      "Please enter the email you would like to send the message to: gretta.musayelyan@yahoo.com\n",
      "\n",
      "SETTING UP SMTP MAIL SERVER.\n",
      "\n",
      "Congrats, you get to see my special email!\n",
      "\n",
      "PRINT OUT CREATED EMAIL:\n",
      "\n",
      "Content-Type: text/plain; charset=\"us-ascii\"\n",
      "MIME-Version: 1.0\n",
      "Content-Transfer-Encoding: 7bit\n",
      "From: ssecretsquirrel18@gmail.com\n",
      "To: gretta.musayelyan@yahoo.com\n",
      "Subject: Top Secret Stuffs\n",
      "\n",
      "Xlmw$mw$e$wytiv$wigvix$qiwweki%$\u000e\u000eXLMW$QIWWEKI$[MPP$WIPJ$HIWXVYGX$MR$72226222\u000e\n",
      "\n",
      "SENDING EMAIL...\n",
      "\n",
      "EMAIL SENT!\n"
     ]
    }
   ],
   "source": [
    "use_custom = input(\"Do you want to send to a custom email? 'y' or 'n'\")\n",
    "\n",
    "if use_custom == 'y':\n",
    "    custom_email = input('Please enter the email you would like to send the message to: ')\n",
    "    send_encrypted_email(encoded_msg, to_email=custom_email)\n",
    "else:\n",
    "    send_encrypted_email(encoded_msg)"
   ]
  }
 ],
 "metadata": {
  "kernelspec": {
   "display_name": "Python 3",
   "language": "python",
   "name": "python3"
  },
  "language_info": {
   "codemirror_mode": {
    "name": "ipython",
    "version": 3
   },
   "file_extension": ".py",
   "mimetype": "text/x-python",
   "name": "python",
   "nbconvert_exporter": "python",
   "pygments_lexer": "ipython3",
   "version": "3.6.5"
  }
 },
 "nbformat": 4,
 "nbformat_minor": 2
}
